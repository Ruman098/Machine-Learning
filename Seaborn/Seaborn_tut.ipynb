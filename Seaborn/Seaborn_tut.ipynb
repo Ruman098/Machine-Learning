{
 "cells": [
  {
   "cell_type": "markdown",
   "id": "71819806-b5a4-4163-acee-d19bd4264df6",
   "metadata": {},
   "source": [
    "# Seaborn Tutorial"
   ]
  },
  {
   "cell_type": "code",
   "execution_count": 1,
   "id": "418f80fe-0905-45e8-997b-eadb88d2aa43",
   "metadata": {},
   "outputs": [],
   "source": [
    "import pandas as pd\n",
    "import numpy as np\n",
    "import matplotlib.pyplot as plt\n",
    "import seaborn as sns\n",
    "%matplotlib inline"
   ]
  },
  {
   "cell_type": "code",
   "execution_count": null,
   "id": "cd9416d3-b9aa-4b8a-9a96-aa6e51bbd01c",
   "metadata": {},
   "outputs": [],
   "source": []
  }
 ],
 "metadata": {
  "kernelspec": {
   "display_name": "Python 3 (ipykernel)",
   "language": "python",
   "name": "python3"
  },
  "language_info": {
   "codemirror_mode": {
    "name": "ipython",
    "version": 3
   },
   "file_extension": ".py",
   "mimetype": "text/x-python",
   "name": "python",
   "nbconvert_exporter": "python",
   "pygments_lexer": "ipython3",
   "version": "3.12.4"
  }
 },
 "nbformat": 4,
 "nbformat_minor": 5
}
