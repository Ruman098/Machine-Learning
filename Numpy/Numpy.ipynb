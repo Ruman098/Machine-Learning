{
 "cells": [
  {
   "cell_type": "markdown",
   "id": "274d1864-acdf-4186-9da6-ca95c80ec9cb",
   "metadata": {},
   "source": [
    "# welcome to numpy"
   ]
  },
  {
   "cell_type": "code",
   "execution_count": 1,
   "id": "48278ca6-85d5-4198-80fe-d6f816a88592",
   "metadata": {},
   "outputs": [],
   "source": [
    "import numpy as np"
   ]
  },
  {
   "cell_type": "code",
   "execution_count": 2,
   "id": "5ce72d0e-439f-42b9-8259-e818721aa9a9",
   "metadata": {},
   "outputs": [
    {
     "name": "stdout",
     "output_type": "stream",
     "text": [
      "2.0.0\n"
     ]
    }
   ],
   "source": [
    "print(np.__version__)"
   ]
  },
  {
   "cell_type": "code",
   "execution_count": 3,
   "id": "b29f457f-6ca6-4e60-a4a1-fc7715e8fc05",
   "metadata": {},
   "outputs": [],
   "source": [
    "arr = np.array([1, 2, 3, 4])"
   ]
  },
  {
   "cell_type": "code",
   "execution_count": 4,
   "id": "cabee869-0698-439a-baa4-eb777d1c650b",
   "metadata": {},
   "outputs": [
    {
     "name": "stdout",
     "output_type": "stream",
     "text": [
      "[1 2 3 4]\n"
     ]
    }
   ],
   "source": [
    "print(arr)"
   ]
  },
  {
   "cell_type": "code",
   "execution_count": 5,
   "id": "5aba1cc5-2b9e-4b6f-a4c2-8b86e8cc98e5",
   "metadata": {},
   "outputs": [
    {
     "data": {
      "text/plain": [
       "array([1, 2, 3, 4])"
      ]
     },
     "execution_count": 5,
     "metadata": {},
     "output_type": "execute_result"
    }
   ],
   "source": [
    "arr"
   ]
  },
  {
   "cell_type": "code",
   "execution_count": 6,
   "id": "673e63ca-db02-498e-b90b-24d93eed2703",
   "metadata": {},
   "outputs": [
    {
     "name": "stdout",
     "output_type": "stream",
     "text": [
      "<class 'numpy.ndarray'>\n"
     ]
    }
   ],
   "source": [
    "print(type(arr))"
   ]
  },
  {
   "cell_type": "code",
   "execution_count": 8,
   "id": "6dbe2ac0-9254-49d4-91f8-56ee894115fe",
   "metadata": {},
   "outputs": [],
   "source": [
    "arr1 = np.array([[1, 2, 3], [4, 5, 6]])"
   ]
  },
  {
   "cell_type": "code",
   "execution_count": 9,
   "id": "70f4dd05-01ed-4853-9324-d45a811714a3",
   "metadata": {},
   "outputs": [
    {
     "data": {
      "text/plain": [
       "array([[1, 2, 3],\n",
       "       [4, 5, 6]])"
      ]
     },
     "execution_count": 9,
     "metadata": {},
     "output_type": "execute_result"
    }
   ],
   "source": [
    "arr1"
   ]
  },
  {
   "cell_type": "code",
   "execution_count": 10,
   "id": "b1942206-947b-4739-a723-17fbb7bd7a12",
   "metadata": {},
   "outputs": [
    {
     "data": {
      "text/plain": [
       "1"
      ]
     },
     "execution_count": 10,
     "metadata": {},
     "output_type": "execute_result"
    }
   ],
   "source": [
    "arr.ndim"
   ]
  },
  {
   "cell_type": "code",
   "execution_count": 11,
   "id": "168186f8-83d5-4fc8-bae7-2d44e1b7e6f7",
   "metadata": {},
   "outputs": [
    {
     "name": "stdout",
     "output_type": "stream",
     "text": [
      "1\n"
     ]
    }
   ],
   "source": [
    "print(arr.ndim)"
   ]
  },
  {
   "cell_type": "code",
   "execution_count": 12,
   "id": "e0d87e6a-a362-42bf-a5f3-418dcd474243",
   "metadata": {},
   "outputs": [
    {
     "data": {
      "text/plain": [
       "2"
      ]
     },
     "execution_count": 12,
     "metadata": {},
     "output_type": "execute_result"
    }
   ],
   "source": [
    "arr1.ndim"
   ]
  },
  {
   "cell_type": "code",
   "execution_count": 13,
   "id": "eff95aed-4c18-4db2-853d-e3c6629a2cba",
   "metadata": {},
   "outputs": [
    {
     "data": {
      "text/plain": [
       "np.int64(1)"
      ]
     },
     "execution_count": 13,
     "metadata": {},
     "output_type": "execute_result"
    }
   ],
   "source": [
    "arr[0]"
   ]
  },
  {
   "cell_type": "code",
   "execution_count": 14,
   "id": "6d5da94e-0211-4f13-b8ac-3c71e62c3101",
   "metadata": {},
   "outputs": [
    {
     "name": "stdout",
     "output_type": "stream",
     "text": [
      "1\n"
     ]
    }
   ],
   "source": [
    "print(arr[0])"
   ]
  },
  {
   "cell_type": "code",
   "execution_count": 15,
   "id": "614fdf0e-d1eb-4dfa-90a6-2f03d0304270",
   "metadata": {},
   "outputs": [
    {
     "data": {
      "text/plain": [
       "np.int64(5)"
      ]
     },
     "execution_count": 15,
     "metadata": {},
     "output_type": "execute_result"
    }
   ],
   "source": [
    "arr1[1, 1]"
   ]
  },
  {
   "cell_type": "code",
   "execution_count": 16,
   "id": "9cf84ff2-6ade-4a44-89fb-6f41ff47cacb",
   "metadata": {},
   "outputs": [
    {
     "name": "stdout",
     "output_type": "stream",
     "text": [
      "int64\n"
     ]
    }
   ],
   "source": [
    "print(arr.dtype)"
   ]
  },
  {
   "cell_type": "code",
   "execution_count": 17,
   "id": "ffa280b9-0999-418f-ac19-bfb70ae42771",
   "metadata": {},
   "outputs": [
    {
     "name": "stdout",
     "output_type": "stream",
     "text": [
      "int64\n"
     ]
    }
   ],
   "source": [
    "print(arr1.dtype)"
   ]
  },
  {
   "cell_type": "code",
   "execution_count": 21,
   "id": "b6de4ee2-9115-4935-8707-becc3444d948",
   "metadata": {},
   "outputs": [],
   "source": [
    "arr3 = np.array([1, 2, 3, 4], dtype = 'S')"
   ]
  },
  {
   "cell_type": "code",
   "execution_count": 22,
   "id": "56eb836e-c78b-4085-a1c0-3adc1ffb568c",
   "metadata": {},
   "outputs": [
    {
     "data": {
      "text/plain": [
       "array([b'1', b'2', b'3', b'4'], dtype='|S1')"
      ]
     },
     "execution_count": 22,
     "metadata": {},
     "output_type": "execute_result"
    }
   ],
   "source": [
    "arr3"
   ]
  },
  {
   "cell_type": "code",
   "execution_count": 23,
   "id": "10bf3733-0739-4c6e-849c-36d6b5fa126f",
   "metadata": {},
   "outputs": [],
   "source": [
    "arr4 = np.array([1.1, 2.2, 3.3, 4.4])"
   ]
  },
  {
   "cell_type": "code",
   "execution_count": 26,
   "id": "4de135de-3cd2-4fd6-8df6-05d543286571",
   "metadata": {},
   "outputs": [],
   "source": [
    "newarr = arr4.astype('bool')"
   ]
  },
  {
   "cell_type": "code",
   "execution_count": 27,
   "id": "33907b2d-2ef7-4d9e-95e9-f522dee6664f",
   "metadata": {},
   "outputs": [
    {
     "data": {
      "text/plain": [
       "array([ True,  True,  True,  True])"
      ]
     },
     "execution_count": 27,
     "metadata": {},
     "output_type": "execute_result"
    }
   ],
   "source": [
    "newarr"
   ]
  },
  {
   "cell_type": "code",
   "execution_count": 28,
   "id": "a0f57c8c-619a-425c-92f0-e6756f453ed6",
   "metadata": {},
   "outputs": [],
   "source": [
    "arr5 = np.array([1, 2, 3, 4, 5])"
   ]
  },
  {
   "cell_type": "code",
   "execution_count": 29,
   "id": "c22046bf-5a36-489f-80f9-8d1bb16da220",
   "metadata": {},
   "outputs": [],
   "source": [
    "x = arr5.copy()"
   ]
  },
  {
   "cell_type": "code",
   "execution_count": 30,
   "id": "bbd5b81b-cdb0-4a09-9c62-e3be6a064101",
   "metadata": {},
   "outputs": [],
   "source": [
    "arr[0] = 42"
   ]
  },
  {
   "cell_type": "code",
   "execution_count": 31,
   "id": "f9c66cee-491f-41aa-b1b1-d39f24203798",
   "metadata": {},
   "outputs": [
    {
     "data": {
      "text/plain": [
       "array([42,  2,  3,  4])"
      ]
     },
     "execution_count": 31,
     "metadata": {},
     "output_type": "execute_result"
    }
   ],
   "source": [
    "arr"
   ]
  },
  {
   "cell_type": "code",
   "execution_count": 32,
   "id": "badb99dc-a14d-4ba1-8189-2a1d11cd2686",
   "metadata": {},
   "outputs": [
    {
     "data": {
      "text/plain": [
       "array([1, 2, 3, 4, 5])"
      ]
     },
     "execution_count": 32,
     "metadata": {},
     "output_type": "execute_result"
    }
   ],
   "source": [
    "x"
   ]
  },
  {
   "cell_type": "code",
   "execution_count": 33,
   "id": "b467bbf9-6548-4917-bb25-abbbb1a6568a",
   "metadata": {},
   "outputs": [],
   "source": [
    "x[0] = 50"
   ]
  },
  {
   "cell_type": "code",
   "execution_count": 34,
   "id": "a4d3abbb-ff55-448a-9902-4369351a8480",
   "metadata": {},
   "outputs": [
    {
     "data": {
      "text/plain": [
       "array([50,  2,  3,  4,  5])"
      ]
     },
     "execution_count": 34,
     "metadata": {},
     "output_type": "execute_result"
    }
   ],
   "source": [
    "x"
   ]
  },
  {
   "cell_type": "code",
   "execution_count": 35,
   "id": "235934e2-4f65-4c95-a193-ee51a490f4b8",
   "metadata": {},
   "outputs": [],
   "source": [
    "arr = np.array([1, 2, 3, 4, 5, 6, 7, 8, 9, 10, 11, 12])\n"
   ]
  },
  {
   "cell_type": "code",
   "execution_count": 36,
   "id": "a05faaf8-8970-4138-94e4-b3064d533b86",
   "metadata": {},
   "outputs": [],
   "source": [
    "narr = arr.reshape(4, 3)"
   ]
  },
  {
   "cell_type": "code",
   "execution_count": 37,
   "id": "94c6b790-c863-4458-a20f-9fb3761d4471",
   "metadata": {},
   "outputs": [
    {
     "data": {
      "text/plain": [
       "array([[ 1,  2,  3],\n",
       "       [ 4,  5,  6],\n",
       "       [ 7,  8,  9],\n",
       "       [10, 11, 12]])"
      ]
     },
     "execution_count": 37,
     "metadata": {},
     "output_type": "execute_result"
    }
   ],
   "source": [
    "narr"
   ]
  },
  {
   "cell_type": "code",
   "execution_count": 38,
   "id": "fdee1301-da42-4ec7-bfe2-8011128f5181",
   "metadata": {},
   "outputs": [],
   "source": [
    "narr = arr.reshape(2, 6)"
   ]
  },
  {
   "cell_type": "code",
   "execution_count": 39,
   "id": "2d7bfbc2-2283-42d5-b1a3-0f8914ea5ac1",
   "metadata": {},
   "outputs": [
    {
     "data": {
      "text/plain": [
       "array([[ 1,  2,  3,  4,  5,  6],\n",
       "       [ 7,  8,  9, 10, 11, 12]])"
      ]
     },
     "execution_count": 39,
     "metadata": {},
     "output_type": "execute_result"
    }
   ],
   "source": [
    "narr"
   ]
  },
  {
   "cell_type": "code",
   "execution_count": 41,
   "id": "7469df88-924f-4812-af98-9b51d65a1228",
   "metadata": {},
   "outputs": [],
   "source": [
    "narr = arr.reshape(2, 3, 2)"
   ]
  },
  {
   "cell_type": "code",
   "execution_count": 42,
   "id": "ead5e98b-b744-4f05-981a-5108550aa48e",
   "metadata": {},
   "outputs": [
    {
     "data": {
      "text/plain": [
       "array([[[ 1,  2],\n",
       "        [ 3,  4],\n",
       "        [ 5,  6]],\n",
       "\n",
       "       [[ 7,  8],\n",
       "        [ 9, 10],\n",
       "        [11, 12]]])"
      ]
     },
     "execution_count": 42,
     "metadata": {},
     "output_type": "execute_result"
    }
   ],
   "source": [
    "narr"
   ]
  },
  {
   "cell_type": "code",
   "execution_count": 43,
   "id": "812b025f-d7fd-4248-b93f-fa8ea2066dfd",
   "metadata": {},
   "outputs": [],
   "source": [
    "narr = arr.reshape(3, 2, 2)"
   ]
  },
  {
   "cell_type": "code",
   "execution_count": 44,
   "id": "253bcaef-fb49-47a9-ae3b-988fb3fd3e93",
   "metadata": {},
   "outputs": [
    {
     "data": {
      "text/plain": [
       "array([[[ 1,  2],\n",
       "        [ 3,  4]],\n",
       "\n",
       "       [[ 5,  6],\n",
       "        [ 7,  8]],\n",
       "\n",
       "       [[ 9, 10],\n",
       "        [11, 12]]])"
      ]
     },
     "execution_count": 44,
     "metadata": {},
     "output_type": "execute_result"
    }
   ],
   "source": [
    "narr"
   ]
  },
  {
   "cell_type": "code",
   "execution_count": 45,
   "id": "71826aaf-187b-472b-b74c-6234ec75f9b2",
   "metadata": {},
   "outputs": [
    {
     "name": "stdout",
     "output_type": "stream",
     "text": [
      "[ 1  2  3  4  5  6  7  8  9 10 11 12]\n"
     ]
    }
   ],
   "source": [
    "print(narr.base)"
   ]
  },
  {
   "cell_type": "code",
   "execution_count": 47,
   "id": "3252d9e2-60af-4b4a-8e71-60c4efc2fd6b",
   "metadata": {},
   "outputs": [
    {
     "name": "stdout",
     "output_type": "stream",
     "text": [
      "[ 1  2  3  4  5  6  7  8  9 10 11 12]\n"
     ]
    }
   ],
   "source": [
    "print(arr.reshape(2, 6).base)"
   ]
  },
  {
   "cell_type": "code",
   "execution_count": 48,
   "id": "6ccc83a1-26ad-4c7e-bcf2-70ca0b519b44",
   "metadata": {},
   "outputs": [],
   "source": [
    "arr = np.array([[1, 2, 3], [4, 5, 6]])"
   ]
  },
  {
   "cell_type": "code",
   "execution_count": 49,
   "id": "d22acd70-8c4a-4ff4-8873-59015eb53f65",
   "metadata": {},
   "outputs": [
    {
     "name": "stdout",
     "output_type": "stream",
     "text": [
      "[1 2 3]\n",
      "[4 5 6]\n"
     ]
    }
   ],
   "source": [
    "for x in arr:\n",
    "    print(x)"
   ]
  },
  {
   "cell_type": "code",
   "execution_count": 52,
   "id": "a28c28fb-02a5-496e-8f9f-48f96f0b7d7d",
   "metadata": {},
   "outputs": [
    {
     "name": "stdout",
     "output_type": "stream",
     "text": [
      "1\n",
      "2\n",
      "3\n",
      "4\n",
      "5\n",
      "6\n"
     ]
    }
   ],
   "source": [
    "for x in arr:\n",
    "    for y in x:\n",
    "        print(y)"
   ]
  },
  {
   "cell_type": "code",
   "execution_count": 53,
   "id": "a1e20f39-0424-4fe8-a57e-22e294417ee3",
   "metadata": {},
   "outputs": [],
   "source": [
    "arr = np.array([[[1, 2, 3], [4, 5, 6]], [[7, 8, 9], [10, 11, 12]]])"
   ]
  },
  {
   "cell_type": "code",
   "execution_count": 54,
   "id": "b37eb754-3442-4220-aa69-ae373d2ac1a4",
   "metadata": {},
   "outputs": [
    {
     "name": "stdout",
     "output_type": "stream",
     "text": [
      "1\n",
      "2\n",
      "3\n",
      "4\n",
      "5\n",
      "6\n",
      "7\n",
      "8\n",
      "9\n",
      "10\n",
      "11\n",
      "12\n"
     ]
    }
   ],
   "source": [
    "for i in arr:\n",
    "    for j in i:\n",
    "        for k in j:\n",
    "            print(k)"
   ]
  },
  {
   "cell_type": "code",
   "execution_count": 56,
   "id": "9d51e94d-9f2a-4cfd-9513-ba530b518405",
   "metadata": {},
   "outputs": [
    {
     "name": "stdout",
     "output_type": "stream",
     "text": [
      "1\n",
      "2\n",
      "3\n",
      "4\n",
      "5\n",
      "6\n",
      "7\n",
      "8\n",
      "9\n",
      "10\n",
      "11\n",
      "12\n"
     ]
    }
   ],
   "source": [
    "for x in np.nditer(arr):\n",
    "    print(x)"
   ]
  },
  {
   "cell_type": "code",
   "execution_count": 59,
   "id": "18dd300a-4272-47f6-82dd-3d26956e081f",
   "metadata": {},
   "outputs": [],
   "source": [
    "arr = np.array([[[[1, 2], [3, 4]], [[5, 6], [7, 8]]]])"
   ]
  },
  {
   "cell_type": "code",
   "execution_count": 61,
   "id": "944c0a72-170f-4630-a9ea-e7369bdf9ba2",
   "metadata": {},
   "outputs": [
    {
     "data": {
      "text/plain": [
       "4"
      ]
     },
     "execution_count": 61,
     "metadata": {},
     "output_type": "execute_result"
    }
   ],
   "source": [
    "arr.ndim"
   ]
  },
  {
   "cell_type": "code",
   "execution_count": 62,
   "id": "546f0fef-2c16-4534-a1c5-13f96ef67be4",
   "metadata": {},
   "outputs": [
    {
     "name": "stdout",
     "output_type": "stream",
     "text": [
      "1\n",
      "2\n",
      "3\n",
      "4\n",
      "5\n",
      "6\n",
      "7\n",
      "8\n"
     ]
    }
   ],
   "source": [
    "for i in np.nditer(arr):\n",
    "    print(i)"
   ]
  },
  {
   "cell_type": "code",
   "execution_count": 68,
   "id": "a982be52-f9ee-487c-869f-499299a29dd9",
   "metadata": {},
   "outputs": [],
   "source": [
    "zeros = np.zeros((2, 2, 3))"
   ]
  },
  {
   "cell_type": "code",
   "execution_count": 69,
   "id": "03cfa986-0645-4235-812e-8555d1d3dbb2",
   "metadata": {},
   "outputs": [
    {
     "data": {
      "text/plain": [
       "array([[[0., 0., 0.],\n",
       "        [0., 0., 0.]],\n",
       "\n",
       "       [[0., 0., 0.],\n",
       "        [0., 0., 0.]]])"
      ]
     },
     "execution_count": 69,
     "metadata": {},
     "output_type": "execute_result"
    }
   ],
   "source": [
    "zeros"
   ]
  },
  {
   "cell_type": "code",
   "execution_count": 70,
   "id": "37268a54-d74a-4438-a200-25afe795b50b",
   "metadata": {},
   "outputs": [],
   "source": [
    "rng = np.arange(15)"
   ]
  },
  {
   "cell_type": "code",
   "execution_count": 71,
   "id": "236a9fa9-31a6-4593-bca0-ccf712bbb15a",
   "metadata": {},
   "outputs": [
    {
     "data": {
      "text/plain": [
       "array([ 0,  1,  2,  3,  4,  5,  6,  7,  8,  9, 10, 11, 12, 13, 14])"
      ]
     },
     "execution_count": 71,
     "metadata": {},
     "output_type": "execute_result"
    }
   ],
   "source": [
    "rng"
   ]
  },
  {
   "cell_type": "code",
   "execution_count": 72,
   "id": "6c188a0e-f53c-4dba-9011-9321ecfebf13",
   "metadata": {},
   "outputs": [],
   "source": [
    "lspace = np.linspace(1, 50, 10)"
   ]
  },
  {
   "cell_type": "code",
   "execution_count": 73,
   "id": "29f40037-999a-4fda-979b-2520e37ebdb8",
   "metadata": {},
   "outputs": [
    {
     "data": {
      "text/plain": [
       "array([ 1.        ,  6.44444444, 11.88888889, 17.33333333, 22.77777778,\n",
       "       28.22222222, 33.66666667, 39.11111111, 44.55555556, 50.        ])"
      ]
     },
     "execution_count": 73,
     "metadata": {},
     "output_type": "execute_result"
    }
   ],
   "source": [
    "lspace"
   ]
  },
  {
   "cell_type": "code",
   "execution_count": null,
   "id": "6a7fc6f5-7be8-41de-9b68-70d3c2a010e1",
   "metadata": {},
   "outputs": [],
   "source": [
    "emp "
   ]
  }
 ],
 "metadata": {
  "kernelspec": {
   "display_name": "Python 3 (ipykernel)",
   "language": "python",
   "name": "python3"
  },
  "language_info": {
   "codemirror_mode": {
    "name": "ipython",
    "version": 3
   },
   "file_extension": ".py",
   "mimetype": "text/x-python",
   "name": "python",
   "nbconvert_exporter": "python",
   "pygments_lexer": "ipython3",
   "version": "3.12.4"
  }
 },
 "nbformat": 4,
 "nbformat_minor": 5
}
