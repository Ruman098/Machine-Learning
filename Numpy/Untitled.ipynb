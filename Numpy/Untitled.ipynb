{
 "cells": [
  {
   "cell_type": "markdown",
   "id": "415b791c-78bc-4dc4-8912-4567a023cc4b",
   "metadata": {},
   "source": [
    "# Practice numpy"
   ]
  },
  {
   "cell_type": "code",
   "execution_count": 1,
   "id": "e79e5fa2-f579-4ca8-8e9d-abf7beb8d94c",
   "metadata": {},
   "outputs": [],
   "source": [
    "import numpy as np"
   ]
  },
  {
   "cell_type": "code",
   "execution_count": 2,
   "id": "25d1787a-c007-472e-9ac7-eeccbfc9e4f9",
   "metadata": {},
   "outputs": [
    {
     "name": "stdout",
     "output_type": "stream",
     "text": [
      "2.0.0\n"
     ]
    }
   ],
   "source": [
    "print(np.__version__)"
   ]
  },
  {
   "cell_type": "code",
   "execution_count": 3,
   "id": "95ac2242-5298-4f18-98f8-f58b8895d93c",
   "metadata": {},
   "outputs": [],
   "source": [
    "arr1 = np.arange(0, 10)"
   ]
  },
  {
   "cell_type": "code",
   "execution_count": 4,
   "id": "7a06e761-ee9d-482e-a34e-8951f7286635",
   "metadata": {},
   "outputs": [
    {
     "data": {
      "text/plain": [
       "array([0, 1, 2, 3, 4, 5, 6, 7, 8, 9])"
      ]
     },
     "execution_count": 4,
     "metadata": {},
     "output_type": "execute_result"
    }
   ],
   "source": [
    "arr1"
   ]
  },
  {
   "cell_type": "code",
   "execution_count": 5,
   "id": "10fd638f-177d-402e-b929-5eb315fa670b",
   "metadata": {},
   "outputs": [],
   "source": [
    "arr2 = np.ones((3, 3), dtype = bool)"
   ]
  },
  {
   "cell_type": "code",
   "execution_count": 6,
   "id": "4ee5e69c-677b-4b4a-8559-9949419afff8",
   "metadata": {},
   "outputs": [
    {
     "data": {
      "text/plain": [
       "array([[ True,  True,  True],\n",
       "       [ True,  True,  True],\n",
       "       [ True,  True,  True]])"
      ]
     },
     "execution_count": 6,
     "metadata": {},
     "output_type": "execute_result"
    }
   ],
   "source": [
    "arr2"
   ]
  },
  {
   "cell_type": "code",
   "execution_count": 7,
   "id": "9baf67e7-9ac6-4925-a824-c955d1ed1160",
   "metadata": {},
   "outputs": [],
   "source": [
    "arr3 = arr1.copy()\n",
    "arr3[arr3 % 2 == 1] = -1"
   ]
  },
  {
   "cell_type": "code",
   "execution_count": 8,
   "id": "47ff382b-7607-43bc-a0d2-14f63865d7c4",
   "metadata": {},
   "outputs": [
    {
     "data": {
      "text/plain": [
       "array([ 0, -1,  2, -1,  4, -1,  6, -1,  8, -1])"
      ]
     },
     "execution_count": 8,
     "metadata": {},
     "output_type": "execute_result"
    }
   ],
   "source": [
    "arr3"
   ]
  },
  {
   "cell_type": "code",
   "execution_count": 9,
   "id": "20aa23b5-6578-4f25-9b14-85a1863dd9fc",
   "metadata": {},
   "outputs": [
    {
     "data": {
      "text/plain": [
       "array([0, 1, 2, 3, 4, 5, 6, 7, 8, 9])"
      ]
     },
     "execution_count": 9,
     "metadata": {},
     "output_type": "execute_result"
    }
   ],
   "source": [
    "arr1"
   ]
  },
  {
   "cell_type": "code",
   "execution_count": 10,
   "id": "b053b9fe-6948-4a31-9cc6-e3af67e3b61c",
   "metadata": {},
   "outputs": [],
   "source": [
    "arr = np.arange(10)"
   ]
  },
  {
   "cell_type": "code",
   "execution_count": 11,
   "id": "6895c8b8-50da-4b3a-b167-43dcb9ee1259",
   "metadata": {},
   "outputs": [
    {
     "data": {
      "text/plain": [
       "array([[0, 1, 2, 3, 4],\n",
       "       [5, 6, 7, 8, 9]])"
      ]
     },
     "execution_count": 11,
     "metadata": {},
     "output_type": "execute_result"
    }
   ],
   "source": [
    "arr.reshape(2, 5)"
   ]
  },
  {
   "cell_type": "code",
   "execution_count": 12,
   "id": "31b71081-4fe3-45ce-b3d2-213df105a0cc",
   "metadata": {},
   "outputs": [],
   "source": [
    "a = np.arange(10).reshape(2,-1)\n",
    "b = np.repeat(1, 10).reshape(2,-1)"
   ]
  },
  {
   "cell_type": "code",
   "execution_count": 13,
   "id": "441ff8c9-6273-4aed-8736-ff7fab51541e",
   "metadata": {},
   "outputs": [
    {
     "data": {
      "text/plain": [
       "(array([[0, 1, 2, 3, 4],\n",
       "        [5, 6, 7, 8, 9]]),\n",
       " array([[1, 1, 1, 1, 1],\n",
       "        [1, 1, 1, 1, 1]]))"
      ]
     },
     "execution_count": 13,
     "metadata": {},
     "output_type": "execute_result"
    }
   ],
   "source": [
    "a, b"
   ]
  },
  {
   "cell_type": "code",
   "execution_count": 14,
   "id": "3f3b231d-5b72-4398-b2c6-d3393262ead3",
   "metadata": {},
   "outputs": [
    {
     "data": {
      "text/plain": [
       "array([[0, 1, 2, 3, 4],\n",
       "       [5, 6, 7, 8, 9],\n",
       "       [1, 1, 1, 1, 1],\n",
       "       [1, 1, 1, 1, 1]])"
      ]
     },
     "execution_count": 14,
     "metadata": {},
     "output_type": "execute_result"
    }
   ],
   "source": [
    "np.vstack([a, b])"
   ]
  },
  {
   "cell_type": "code",
   "execution_count": 15,
   "id": "eb2257a0-0b29-46f9-a21f-b5c95f2f8449",
   "metadata": {},
   "outputs": [
    {
     "data": {
      "text/plain": [
       "array([[0, 1, 2, 3, 4, 1, 1, 1, 1, 1],\n",
       "       [5, 6, 7, 8, 9, 1, 1, 1, 1, 1]])"
      ]
     },
     "execution_count": 15,
     "metadata": {},
     "output_type": "execute_result"
    }
   ],
   "source": [
    "np.hstack([a, b])"
   ]
  },
  {
   "cell_type": "code",
   "execution_count": 16,
   "id": "df73fb7d-5d9a-4d64-882f-53e3b4b0a651",
   "metadata": {},
   "outputs": [],
   "source": [
    "a = np.array([1,2,3])"
   ]
  },
  {
   "cell_type": "code",
   "execution_count": 19,
   "id": "2270c385-9236-4fd8-b07b-3fae44d15248",
   "metadata": {},
   "outputs": [],
   "source": [
    "c = np.repeat(a, 3)\n",
    "d = np.tile(a, 3)"
   ]
  },
  {
   "cell_type": "code",
   "execution_count": 20,
   "id": "40e3dc01-ab33-4b79-8b11-5a27035abc87",
   "metadata": {},
   "outputs": [
    {
     "data": {
      "text/plain": [
       "array([1, 1, 1, 2, 2, 2, 3, 3, 3])"
      ]
     },
     "execution_count": 20,
     "metadata": {},
     "output_type": "execute_result"
    }
   ],
   "source": [
    "c"
   ]
  },
  {
   "cell_type": "code",
   "execution_count": 21,
   "id": "31557c68-450c-472f-8841-5bdf1afc7fa3",
   "metadata": {},
   "outputs": [
    {
     "data": {
      "text/plain": [
       "array([1, 2, 3, 1, 2, 3, 1, 2, 3])"
      ]
     },
     "execution_count": 21,
     "metadata": {},
     "output_type": "execute_result"
    }
   ],
   "source": [
    "d"
   ]
  },
  {
   "cell_type": "code",
   "execution_count": 22,
   "id": "473dce50-20ad-4c3c-add3-e5777bb87369",
   "metadata": {},
   "outputs": [
    {
     "data": {
      "text/plain": [
       "array([1, 1, 1, 2, 2, 2, 3, 3, 3, 1, 2, 3, 1, 2, 3, 1, 2, 3])"
      ]
     },
     "execution_count": 22,
     "metadata": {},
     "output_type": "execute_result"
    }
   ],
   "source": [
    "np.hstack([c, d])"
   ]
  },
  {
   "cell_type": "code",
   "execution_count": 23,
   "id": "a562204e-44ec-4d23-92d9-86d4a01b269c",
   "metadata": {},
   "outputs": [],
   "source": [
    "a = np.array([1,2,3,2,3,4,3,4,5,6])\n",
    "b = np.array([7,2,10,2,7,4,9,4,9,8])"
   ]
  },
  {
   "cell_type": "code",
   "execution_count": 24,
   "id": "d49456b4-20a8-43c7-8d2e-82d382337a08",
   "metadata": {},
   "outputs": [
    {
     "data": {
      "text/plain": [
       "array([False,  True, False,  True, False,  True, False,  True, False,\n",
       "       False])"
      ]
     },
     "execution_count": 24,
     "metadata": {},
     "output_type": "execute_result"
    }
   ],
   "source": [
    "a == b"
   ]
  },
  {
   "cell_type": "code",
   "execution_count": 26,
   "id": "2f024f45-4747-43b9-bb9f-006b667055eb",
   "metadata": {},
   "outputs": [
    {
     "data": {
      "text/plain": [
       "array([2, 4])"
      ]
     },
     "execution_count": 26,
     "metadata": {},
     "output_type": "execute_result"
    }
   ],
   "source": [
    "index = np.where(a == b)\n",
    "np.unique(a.take(index))"
   ]
  },
  {
   "cell_type": "code",
   "execution_count": 28,
   "id": "28d74e2f-e019-4dda-bf50-7d26b44caa36",
   "metadata": {},
   "outputs": [
    {
     "data": {
      "text/plain": [
       "array([2, 4])"
      ]
     },
     "execution_count": 28,
     "metadata": {},
     "output_type": "execute_result"
    }
   ],
   "source": [
    "np.intersect1d(a, b)"
   ]
  },
  {
   "cell_type": "code",
   "execution_count": 37,
   "id": "c1cb2c5c-f6d7-480e-b08e-7aeebd9be2fe",
   "metadata": {},
   "outputs": [
    {
     "data": {
      "text/plain": [
       "array([[0, 1, 2],\n",
       "       [3, 4, 5],\n",
       "       [6, 7, 8]])"
      ]
     },
     "execution_count": 37,
     "metadata": {},
     "output_type": "execute_result"
    }
   ],
   "source": [
    "new = np.arange(9).reshape(3,3)"
   ]
  },
  {
   "cell_type": "code",
   "execution_count": 42,
   "id": "c934ae9b-6d95-4061-997f-24ca99de9054",
   "metadata": {},
   "outputs": [],
   "source": [
    "nand = np.random.uniform(5, 10, size=(5, 3))"
   ]
  },
  {
   "cell_type": "code",
   "execution_count": 43,
   "id": "d8bb7c0b-483f-4253-a6d1-1596b911c6ef",
   "metadata": {},
   "outputs": [
    {
     "data": {
      "text/plain": [
       "array([[9.45775764, 7.10375327, 9.07998684],\n",
       "       [7.58554247, 5.69173308, 8.2443762 ],\n",
       "       [5.55354874, 9.37201545, 5.64827313],\n",
       "       [7.32025023, 6.09068173, 8.82388662],\n",
       "       [5.22873135, 5.45016543, 5.54500127]])"
      ]
     },
     "execution_count": 43,
     "metadata": {},
     "output_type": "execute_result"
    }
   ],
   "source": [
    "nand"
   ]
  },
  {
   "cell_type": "code",
   "execution_count": 44,
   "id": "15e9a055-928c-480d-b482-1793a32f8fab",
   "metadata": {},
   "outputs": [
    {
     "data": {
      "text/plain": [
       "array([[0.77745221, 0.87211172, 0.17310694],\n",
       "       [0.92884133, 0.3316825 , 0.80702001],\n",
       "       [0.93793322, 0.28606036, 0.01014823],\n",
       "       [0.81882511, 0.31376569, 0.86776275],\n",
       "       [0.15186249, 0.86489583, 0.618244  ]])"
      ]
     },
     "execution_count": 44,
     "metadata": {},
     "output_type": "execute_result"
    }
   ],
   "source": [
    "np.random.random((5, 3))"
   ]
  },
  {
   "cell_type": "code",
   "execution_count": 45,
   "id": "fbcc14fe-a2cc-4ee9-b06a-36889c4f8f4d",
   "metadata": {},
   "outputs": [
    {
     "data": {
      "text/plain": [
       "array([[0.85585429, 0.60637855, 0.88241561],\n",
       "       [0.1489185 , 0.48986632, 0.82062988],\n",
       "       [0.37710657, 0.43740739, 0.87823748],\n",
       "       [0.4798276 , 0.28348855, 0.6905819 ],\n",
       "       [0.69137822, 0.0742858 , 0.59743097]])"
      ]
     },
     "execution_count": 45,
     "metadata": {},
     "output_type": "execute_result"
    }
   ],
   "source": [
    "np.random.random([5, 3])"
   ]
  },
  {
   "cell_type": "code",
   "execution_count": null,
   "id": "366a8013-c1b8-4c42-9b5e-31f2aa79644f",
   "metadata": {},
   "outputs": [],
   "source": [
    "np.set_"
   ]
  }
 ],
 "metadata": {
  "kernelspec": {
   "display_name": "Python 3 (ipykernel)",
   "language": "python",
   "name": "python3"
  },
  "language_info": {
   "codemirror_mode": {
    "name": "ipython",
    "version": 3
   },
   "file_extension": ".py",
   "mimetype": "text/x-python",
   "name": "python",
   "nbconvert_exporter": "python",
   "pygments_lexer": "ipython3",
   "version": "3.12.4"
  }
 },
 "nbformat": 4,
 "nbformat_minor": 5
}
